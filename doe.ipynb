{
 "cells": [
  {
   "cell_type": "code",
   "execution_count": null,
   "metadata": {},
   "outputs": [],
   "source": []
  },
  {
   "cell_type": "code",
   "execution_count": 235,
   "metadata": {},
   "outputs": [],
   "source": [
    "myFF = pyDOE2.fullfact([2,2,2,2,2,2,2,2,2,2])\n",
    "# myCCD= pyDOE2.ccdesign(10, center=[0,1],alpha='o', face='ccf')\n",
    "myCCD = pyDOE2.ccdesign(3, face='ccf')\n",
    "myBBD = pyDOE2.bbdesign(10, center=1)\n",
    "myGSD = pyDOE2.gsd([2,2,2,3,2,2,2,2,2,2], 2)"
   ]
  },
  {
   "cell_type": "code",
   "execution_count": 236,
   "metadata": {},
   "outputs": [],
   "source": [
    "with open(\"ff.csv\",\"w+\") as my_csv:\n",
    "    csvWriter = csv.writer(my_csv,delimiter=',')\n",
    "    csvWriter.writerows(myFF)\n",
    "\n",
    "with open(\"ccd.csv\",\"w+\") as my_csv:\n",
    "    csvWriter = csv.writer(my_csv,delimiter=',')\n",
    "    csvWriter.writerows(myCCD)\n",
    "    \n",
    "with open(\"bbd.csv\",\"w+\") as my_csv:\n",
    "    csvWriter = csv.writer(my_csv,delimiter=',')\n",
    "    csvWriter.writerows(myBBD)\n",
    "    \n",
    "with open(\"gsd.csv\",\"w+\") as my_csv:\n",
    "    csvWriter = csv.writer(my_csv,delimiter=',')\n",
    "    csvWriter.writerows(myGSD)"
   ]
  },
  {
   "cell_type": "code",
   "execution_count": 237,
   "metadata": {},
   "outputs": [
    {
     "name": "stdout",
     "output_type": "stream",
     "text": [
      "FF is 1024 rows\n",
      "CCD is 22 rows\n",
      "BBD is 181 rows\n",
      "GSD is 768 rows\n"
     ]
    }
   ],
   "source": [
    "print(\"FF is %d rows\" % len(myFF))\n",
    "print(\"CCD is %d rows\" % len(myCCD))\n",
    "print(\"BBD is %d rows\" % len(myBBD))\n",
    "print(\"GSD is %d rows\" % len(myGSD))\n"
   ]
  },
  {
   "cell_type": "code",
   "execution_count": 238,
   "metadata": {},
   "outputs": [
    {
     "name": "stdout",
     "output_type": "stream",
     "text": [
      "Pandas(Index=0, Name='THAAD', Min=10, Max=200)\n",
      "Pandas(Index=1, Name='PATRIOT', Min=5, Max=20)\n",
      "Pandas(Index=2, Name='IFPC', Min=100, Max=200)\n"
     ]
    }
   ],
   "source": [
    "input = pd.read_csv('input_max.csv')\n",
    "input\n",
    "\n",
    "# Create Systems\n",
    "systems = []\n",
    "for row in input.itertuples():\n",
    "    print(row)\n",
    "    systems.append(ActiveSys(row.Name, row.Min, row.Max))\n"
   ]
  },
  {
   "cell_type": "code",
   "execution_count": 239,
   "metadata": {},
   "outputs": [],
   "source": [
    "myDOE = pd.DataFrame(myCCD, columns=input.iloc[:,0].tolist())"
   ]
  },
  {
   "cell_type": "code",
   "execution_count": null,
   "metadata": {},
   "outputs": [],
   "source": []
  },
  {
   "cell_type": "code",
   "execution_count": 243,
   "metadata": {},
   "outputs": [
    {
     "name": "stdout",
     "output_type": "stream",
     "text": [
      "THAAD\n",
      "10\n",
      "200\n",
      "PATRIOT\n",
      "5\n",
      "20\n",
      "IFPC\n",
      "100\n",
      "200\n"
     ]
    }
   ],
   "source": [
    "if not len(systems) == len(myDOE.columns):\n",
    "    print(\"DOE does not match input...\")\n",
    "    exit()\n",
    "else:\n",
    "    for i, system in enumerate(systems):\n",
    "        # print (system.name)\n",
    "        # print (system.min)\n",
    "        # print (system.max)\n",
    "        myDOE.loc[myDOE[columns[i]] == -1, columns[i]] = systems[i].min\n",
    "        myDOE.loc[myDOE[columns[i]] == 0, columns[i]] = (systems[i].min+systems[i].max)/2\n",
    "        myDOE.loc[myDOE[columns[i]] == 1, columns[i]] = systems[i].max\n",
    "        "
   ]
  },
  {
   "cell_type": "code",
   "execution_count": 244,
   "metadata": {},
   "outputs": [
    {
     "data": {
      "text/html": [
       "<div>\n",
       "<style scoped>\n",
       "    .dataframe tbody tr th:only-of-type {\n",
       "        vertical-align: middle;\n",
       "    }\n",
       "\n",
       "    .dataframe tbody tr th {\n",
       "        vertical-align: top;\n",
       "    }\n",
       "\n",
       "    .dataframe thead th {\n",
       "        text-align: right;\n",
       "    }\n",
       "</style>\n",
       "<table border=\"1\" class=\"dataframe\">\n",
       "  <thead>\n",
       "    <tr style=\"text-align: right;\">\n",
       "      <th></th>\n",
       "      <th>THAAD</th>\n",
       "      <th>PATRIOT</th>\n",
       "      <th>IFPC</th>\n",
       "    </tr>\n",
       "  </thead>\n",
       "  <tbody>\n",
       "    <tr>\n",
       "      <th>0</th>\n",
       "      <td>10.0</td>\n",
       "      <td>5.0</td>\n",
       "      <td>100.0</td>\n",
       "    </tr>\n",
       "    <tr>\n",
       "      <th>1</th>\n",
       "      <td>200.0</td>\n",
       "      <td>5.0</td>\n",
       "      <td>100.0</td>\n",
       "    </tr>\n",
       "    <tr>\n",
       "      <th>2</th>\n",
       "      <td>10.0</td>\n",
       "      <td>20.0</td>\n",
       "      <td>100.0</td>\n",
       "    </tr>\n",
       "    <tr>\n",
       "      <th>3</th>\n",
       "      <td>200.0</td>\n",
       "      <td>20.0</td>\n",
       "      <td>100.0</td>\n",
       "    </tr>\n",
       "    <tr>\n",
       "      <th>4</th>\n",
       "      <td>10.0</td>\n",
       "      <td>5.0</td>\n",
       "      <td>200.0</td>\n",
       "    </tr>\n",
       "    <tr>\n",
       "      <th>5</th>\n",
       "      <td>200.0</td>\n",
       "      <td>5.0</td>\n",
       "      <td>200.0</td>\n",
       "    </tr>\n",
       "    <tr>\n",
       "      <th>6</th>\n",
       "      <td>10.0</td>\n",
       "      <td>20.0</td>\n",
       "      <td>200.0</td>\n",
       "    </tr>\n",
       "    <tr>\n",
       "      <th>7</th>\n",
       "      <td>200.0</td>\n",
       "      <td>20.0</td>\n",
       "      <td>200.0</td>\n",
       "    </tr>\n",
       "    <tr>\n",
       "      <th>8</th>\n",
       "      <td>105.0</td>\n",
       "      <td>12.5</td>\n",
       "      <td>150.0</td>\n",
       "    </tr>\n",
       "    <tr>\n",
       "      <th>9</th>\n",
       "      <td>105.0</td>\n",
       "      <td>12.5</td>\n",
       "      <td>150.0</td>\n",
       "    </tr>\n",
       "    <tr>\n",
       "      <th>10</th>\n",
       "      <td>105.0</td>\n",
       "      <td>12.5</td>\n",
       "      <td>150.0</td>\n",
       "    </tr>\n",
       "    <tr>\n",
       "      <th>11</th>\n",
       "      <td>105.0</td>\n",
       "      <td>12.5</td>\n",
       "      <td>150.0</td>\n",
       "    </tr>\n",
       "    <tr>\n",
       "      <th>12</th>\n",
       "      <td>10.0</td>\n",
       "      <td>12.5</td>\n",
       "      <td>150.0</td>\n",
       "    </tr>\n",
       "    <tr>\n",
       "      <th>13</th>\n",
       "      <td>200.0</td>\n",
       "      <td>12.5</td>\n",
       "      <td>150.0</td>\n",
       "    </tr>\n",
       "    <tr>\n",
       "      <th>14</th>\n",
       "      <td>105.0</td>\n",
       "      <td>5.0</td>\n",
       "      <td>150.0</td>\n",
       "    </tr>\n",
       "    <tr>\n",
       "      <th>15</th>\n",
       "      <td>105.0</td>\n",
       "      <td>20.0</td>\n",
       "      <td>150.0</td>\n",
       "    </tr>\n",
       "    <tr>\n",
       "      <th>16</th>\n",
       "      <td>105.0</td>\n",
       "      <td>12.5</td>\n",
       "      <td>100.0</td>\n",
       "    </tr>\n",
       "    <tr>\n",
       "      <th>17</th>\n",
       "      <td>105.0</td>\n",
       "      <td>12.5</td>\n",
       "      <td>200.0</td>\n",
       "    </tr>\n",
       "    <tr>\n",
       "      <th>18</th>\n",
       "      <td>105.0</td>\n",
       "      <td>12.5</td>\n",
       "      <td>150.0</td>\n",
       "    </tr>\n",
       "    <tr>\n",
       "      <th>19</th>\n",
       "      <td>105.0</td>\n",
       "      <td>12.5</td>\n",
       "      <td>150.0</td>\n",
       "    </tr>\n",
       "    <tr>\n",
       "      <th>20</th>\n",
       "      <td>105.0</td>\n",
       "      <td>12.5</td>\n",
       "      <td>150.0</td>\n",
       "    </tr>\n",
       "    <tr>\n",
       "      <th>21</th>\n",
       "      <td>105.0</td>\n",
       "      <td>12.5</td>\n",
       "      <td>150.0</td>\n",
       "    </tr>\n",
       "  </tbody>\n",
       "</table>\n",
       "</div>"
      ],
      "text/plain": [
       "    THAAD  PATRIOT   IFPC\n",
       "0    10.0      5.0  100.0\n",
       "1   200.0      5.0  100.0\n",
       "2    10.0     20.0  100.0\n",
       "3   200.0     20.0  100.0\n",
       "4    10.0      5.0  200.0\n",
       "5   200.0      5.0  200.0\n",
       "6    10.0     20.0  200.0\n",
       "7   200.0     20.0  200.0\n",
       "8   105.0     12.5  150.0\n",
       "9   105.0     12.5  150.0\n",
       "10  105.0     12.5  150.0\n",
       "11  105.0     12.5  150.0\n",
       "12   10.0     12.5  150.0\n",
       "13  200.0     12.5  150.0\n",
       "14  105.0      5.0  150.0\n",
       "15  105.0     20.0  150.0\n",
       "16  105.0     12.5  100.0\n",
       "17  105.0     12.5  200.0\n",
       "18  105.0     12.5  150.0\n",
       "19  105.0     12.5  150.0\n",
       "20  105.0     12.5  150.0\n",
       "21  105.0     12.5  150.0"
      ]
     },
     "execution_count": 244,
     "metadata": {},
     "output_type": "execute_result"
    }
   ],
   "source": [
    "myDOE"
   ]
  },
  {
   "cell_type": "code",
   "execution_count": null,
   "metadata": {},
   "outputs": [],
   "source": [
    "for designPoint in myCCD:\n",
    "    for i in designPoint:\n",
    "        print(i)\n",
    "        if i ==-1:\n",
    "            print(\"i == -1\")\n",
    "            i=100"
   ]
  },
  {
   "cell_type": "code",
   "execution_count": null,
   "metadata": {},
   "outputs": [],
   "source": [
    "myCCD"
   ]
  },
  {
   "cell_type": "code",
   "execution_count": null,
   "metadata": {},
   "outputs": [],
   "source": []
  },
  {
   "cell_type": "code",
   "execution_count": null,
   "metadata": {},
   "outputs": [],
   "source": [
    "from matplotlib import pyplot as plt\n",
    "import numpy as np\n",
    "\n",
    "# Set the figure size\n",
    "plt.rcParams[\"figure.figsize\"] = [3.00, 7.50]\n",
    "# plt.rcParams[\"figure.autolayout\"] = True\n",
    "\n",
    "# Random data points\n",
    "data = np.random.rand(5, 5)\n",
    "\n",
    "# Plot the data using imshow with gray colormap\n",
    "plt.imshow(myCCD, cmap='gray',  aspect='auto')\n",
    "\n",
    "# Display the plot\n",
    "plt.show()"
   ]
  },
  {
   "cell_type": "code",
   "execution_count": null,
   "metadata": {},
   "outputs": [],
   "source": [
    "myCCD[10:12]"
   ]
  },
  {
   "cell_type": "code",
   "execution_count": null,
   "metadata": {},
   "outputs": [],
   "source": []
  }
 ],
 "metadata": {
  "interpreter": {
   "hash": "4f9119d1919f8a28f53f6c8c024d4bef90801822af0b5c44d377d22669c53e61"
  },
  "kernelspec": {
   "display_name": "Python 3.8.8 64-bit ('base': conda)",
   "language": "python",
   "name": "python3"
  },
  "language_info": {
   "codemirror_mode": {
    "name": "ipython",
    "version": 3
   },
   "file_extension": ".py",
   "mimetype": "text/x-python",
   "name": "python",
   "nbconvert_exporter": "python",
   "pygments_lexer": "ipython3",
   "version": "3.8.8"
  },
  "orig_nbformat": 4
 },
 "nbformat": 4,
 "nbformat_minor": 2
}
